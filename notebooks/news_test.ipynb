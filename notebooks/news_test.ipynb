{
 "cells": [
  {
   "cell_type": "markdown",
   "id": "21448bdd",
   "metadata": {},
   "source": [
    "# Market Sentiment with Alpha Vantage"
   ]
  },
  {
   "cell_type": "markdown",
   "id": "5778f5cd",
   "metadata": {},
   "source": [
    "### Setup"
   ]
  },
  {
   "cell_type": "code",
   "execution_count": 8,
   "id": "5adf6e8e",
   "metadata": {},
   "outputs": [],
   "source": [
    "import os, sys, requests, datetime as dt\n",
    "from dotenv import load_dotenv\n",
    "\n",
    "load_dotenv()\n",
    "\n",
    "BASE = \"https://www.alphavantage.co/query\"\n",
    "\n",
    "def get_news():\n",
    "    api_key = os.getenv(\"ALPHAVANTAGE_API_KEY\")\n",
    "    if not api_key:\n",
    "        print(\"Missing alphavantage api key.\")\n",
    "        sys.exit(1)\n",
    "\n",
    "    tickers = [\"AAPL\"]\n",
    "    tickers_str = \",\".join(tickers[:20])  # keep under 25 or so while on free tier\n",
    "    # last 7 days, latest first, cap at 25 while on free tier\n",
    "    time_from = (dt.datetime.utcnow() - dt.timedelta(days=7)).strftime(\"%Y%m%dT%H%M\")\n",
    "\n",
    "    params = {\n",
    "        \"function\": \"NEWS_SENTIMENT\",\n",
    "        \"tickers\": tickers_str,\n",
    "        \"time_from\": time_from,\n",
    "        \"sort\": \"LATEST\",\n",
    "        \"limit\": 25,\n",
    "        \"apikey\": api_key,\n",
    "    }\n",
    "\n",
    "    print(f\"→ Hitting NEWS_SENTIMENT for: {tickers_str}\")\n",
    "    r = requests.get(BASE, params=params, timeout=30)\n",
    "    print(f\"HTTP {r.status_code}\")\n",
    "    try:\n",
    "        data = r.json()\n",
    "    except Exception:\n",
    "        print(\"Non-JSON response:\", r.text[:500])\n",
    "        sys.exit(2)\n",
    "\n",
    "    # Alpha Vantage returns 'Note' on throttling; 'Information' or 'Error Message' on issues\n",
    "    for key in (\"Note\", \"Information\", \"Error Message\"):\n",
    "        if key in data:\n",
    "            print(f\"{key}: {data[key]}\")\n",
    "            print(\"Rate-limit hit or endpoint not available\")\n",
    "            sys.exit(3)\n",
    "\n",
    "    feed = data.get(\"feed\", [])\n",
    "    print(f\"Articles returned: {len(feed)}\")\n",
    "    if not feed:\n",
    "        print(\"No articles found\")\n",
    "        sys.exit(0)\n",
    "\n",
    "    # Compact sample of the first few items\n",
    "    for i, item in enumerate(feed[:5], start=1):\n",
    "        ts_list = item.get(\"ticker_sentiment\", [])\n",
    "        tickers_in_item = [ts.get(\"ticker\") for ts in ts_list]\n",
    "        print(f\"\\n#{i}\")\n",
    "        print(\"published :\", item.get(\"time_published\"))\n",
    "        print(\"source    :\", item.get(\"source\"))\n",
    "        print(\"title     :\", (item.get(\"title\") or \"\")[:140])\n",
    "        print(\"url       :\", item.get(\"url\"))\n",
    "        print(\"mentions  :\", tickers_in_item)\n",
    "        if ts_list:\n",
    "            ts = ts_list[0]\n",
    "            print(\"av_sent   :\", ts.get(\"ticker_sentiment_score\"), \"relevance:\", ts.get(\"relevance_score\"))\n",
    "\n",
    "    print(\"\\nSUCCESS: NEWS_SENTIMENT returned data with your key.\")\n"
   ]
  },
  {
   "cell_type": "markdown",
   "id": "9ba3defa",
   "metadata": {},
   "source": [
    "### Grab news from AlphaVantage"
   ]
  },
  {
   "cell_type": "code",
   "execution_count": 9,
   "id": "7e92ccc9",
   "metadata": {},
   "outputs": [
    {
     "name": "stderr",
     "output_type": "stream",
     "text": [
      "/var/folders/8r/txvrry2d4g18dhf7jkg1hhzm0000gn/T/ipykernel_67103/676731858.py:17: DeprecationWarning: datetime.datetime.utcnow() is deprecated and scheduled for removal in a future version. Use timezone-aware objects to represent datetimes in UTC: datetime.datetime.now(datetime.UTC).\n",
      "  time_from = (dt.datetime.utcnow() - dt.timedelta(days=7)).strftime(\"%Y%m%dT%H%M\")\n"
     ]
    },
    {
     "name": "stdout",
     "output_type": "stream",
     "text": [
      "→ Hitting NEWS_SENTIMENT for: AAPL\n",
      "HTTP 200\n",
      "Articles returned: 50\n",
      "\n",
      "#1\n",
      "published : 20251022T173926\n",
      "source    : Benzinga\n",
      "title     : What's Going On With The Drop In Apple Stock Today? - Apple  ( NASDAQ:AAPL ) \n",
      "url       : https://www.benzinga.com/trading-ideas/movers/25/10/48361867/whats-going-on-with-the-drop-in-apple-stock-today\n",
      "mentions  : ['AAPL', 'FOREX:EUR']\n",
      "av_sent   : -0.069515 relevance: 0.702807\n",
      "\n",
      "#2\n",
      "published : 20251022T172400\n",
      "source    : Zacks Commentary\n",
      "title     : The Mag 7 Stock Charts: Which are Hot?\n",
      "url       : https://www.zacks.com/commentary/2774466/the-mag-7-stock-charts-which-are-hot\n",
      "mentions  : ['MSFT', 'GOOG', 'META', 'NVDA', 'AAPL', 'TSLA', 'AMZN']\n",
      "av_sent   : 0.247456 relevance: 0.511256\n",
      "\n",
      "#3\n",
      "published : 20251022T172100\n",
      "source    : Zacks Commentary\n",
      "title     : MSFT vs. AAPL: Which Mega-Cap Tech Stock is the Better Buy Now?\n",
      "url       : https://www.zacks.com/stock/news/2774470/msft-vs-aapl-which-mega-cap-tech-stock-is-the-better-buy-now\n",
      "mentions  : ['MSFT', 'GOOG', 'AAPL', 'BCS']\n",
      "av_sent   : 0.429678 relevance: 0.343929\n",
      "\n",
      "#4\n",
      "published : 20251022T165007\n",
      "source    : Benzinga\n",
      "title     : Gold Drops After Blow-Off Top Signal; Netflix Disappoints; Tesla Earnings Ahead - Apple  ( NASDAQ:AAPL ) \n",
      "url       : https://www.benzinga.com/Opinion/25/10/48360442/gold-drops-after-blow-off-top-signal-netflix-disappoints-tesla-earnings-ahead\n",
      "mentions  : ['MSFT', 'GOOG', 'META', 'NVDA', 'AAPL', 'TSLA', 'APG', 'OKLO', 'IVZ', 'RGTI', 'ASTS']\n",
      "av_sent   : 0.167046 relevance: 0.060848\n",
      "\n",
      "#5\n",
      "published : 20251022T154200\n",
      "source    : Zacks Commentary\n",
      "title     : NFLX Q3 Earnings Miss on Brazilian Tax Dispute, Posts Record Ad Sales\n",
      "url       : https://www.zacks.com/stock/news/2774352/nflx-q3-earnings-miss-on-brazilian-tax-dispute-posts-record-ad-sales\n",
      "mentions  : ['NFLX', 'MAT', 'AAPL', 'HAS', 'SPOT', 'AMZN']\n",
      "av_sent   : 0.358512 relevance: 0.554232\n",
      "\n",
      "SUCCESS: NEWS_SENTIMENT returned data with your key.\n"
     ]
    }
   ],
   "source": [
    "get_news()\n"
   ]
  }
 ],
 "metadata": {
  "kernelspec": {
   "display_name": "venv",
   "language": "python",
   "name": "python3"
  },
  "language_info": {
   "codemirror_mode": {
    "name": "ipython",
    "version": 3
   },
   "file_extension": ".py",
   "mimetype": "text/x-python",
   "name": "python",
   "nbconvert_exporter": "python",
   "pygments_lexer": "ipython3",
   "version": "3.12.10"
  }
 },
 "nbformat": 4,
 "nbformat_minor": 5
}
